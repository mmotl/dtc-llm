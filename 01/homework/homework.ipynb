{
 "cells": [
  {
   "cell_type": "markdown",
   "id": "89f851ac",
   "metadata": {},
   "source": [
    "For running Elastic Search 8.17.6:  \n",
    "\n",
    "```zsh\n",
    "\n",
    "docker run -it \\\n",
    "    --rm \\\n",
    "    --name elasticsearch \\\n",
    "    -p 9200:9200 \\\n",
    "    -p 9300:9300 \\\n",
    "    -e \"discovery.type=single-node\" \\\n",
    "    -e \"xpack.security.enabled=false\" \\\n",
    "    elasticsearch:8.17.6\n",
    "```\n",
    "\n",
    "gives \"build_hash\" : \"dbcbbbd0bc4924cfeb28929dc05d82d662c527b7\"\n"
   ]
  },
  {
   "cell_type": "code",
   "execution_count": 1,
   "id": "714e0ff7",
   "metadata": {},
   "outputs": [],
   "source": [
    "import requests \n",
    "\n",
    "docs_url = 'https://github.com/DataTalksClub/llm-zoomcamp/blob/main/01-intro/documents.json?raw=1'\n",
    "docs_response = requests.get(docs_url)\n",
    "documents_raw = docs_response.json()\n",
    "\n",
    "documents = []\n",
    "\n",
    "for course in documents_raw:\n",
    "    course_name = course['course']\n",
    "\n",
    "    for doc in course['documents']:\n",
    "        doc['course'] = course_name\n",
    "        documents.append(doc)"
   ]
  },
  {
   "cell_type": "code",
   "execution_count": 2,
   "id": "c15b57c7",
   "metadata": {},
   "outputs": [
    {
     "data": {
      "text/plain": [
       "{'text': \"The purpose of this document is to capture frequently asked technical questions\\nThe exact day and hour of the course will be 15th Jan 2024 at 17h00. The course will start with the first  “Office Hours'' live.1\\nSubscribe to course public Google Calendar (it works from Desktop only).\\nRegister before the course starts using this link.\\nJoin the course Telegram channel with announcements.\\nDon’t forget to register in DataTalks.Club's Slack and join the channel.\",\n",
       " 'section': 'General course-related questions',\n",
       " 'question': 'Course - When will the course start?',\n",
       " 'course': 'data-engineering-zoomcamp'}"
      ]
     },
     "execution_count": 2,
     "metadata": {},
     "output_type": "execute_result"
    }
   ],
   "source": [
    "documents[0]"
   ]
  },
  {
   "cell_type": "code",
   "execution_count": 3,
   "id": "92261421",
   "metadata": {},
   "outputs": [],
   "source": [
    "query = 'How do execute a command on a Kubernetes pod?'"
   ]
  },
  {
   "cell_type": "code",
   "execution_count": 4,
   "id": "42edf771",
   "metadata": {},
   "outputs": [],
   "source": [
    "from tqdm.auto import tqdm"
   ]
  },
  {
   "cell_type": "code",
   "execution_count": 5,
   "id": "54634a04",
   "metadata": {},
   "outputs": [
    {
     "data": {
      "text/plain": [
       "{'name': 'ca3520459c8d',\n",
       " 'cluster_name': 'docker-cluster',\n",
       " 'cluster_uuid': 'sPDGXxpOQDyEMkM1DamC7A',\n",
       " 'version': {'number': '8.17.6',\n",
       "  'build_flavor': 'default',\n",
       "  'build_type': 'docker',\n",
       "  'build_hash': 'dbcbbbd0bc4924cfeb28929dc05d82d662c527b7',\n",
       "  'build_date': '2025-04-30T14:07:12.231372970Z',\n",
       "  'build_snapshot': False,\n",
       "  'lucene_version': '9.12.0',\n",
       "  'minimum_wire_compatibility_version': '7.17.0',\n",
       "  'minimum_index_compatibility_version': '7.0.0'},\n",
       " 'tagline': 'You Know, for Search'}"
      ]
     },
     "execution_count": 5,
     "metadata": {},
     "output_type": "execute_result"
    }
   ],
   "source": [
    "# from elasticsearch import Elasticsearch\n",
    "# es_client = Elasticsearch('http://localhost:9200')\n",
    "\n",
    "from opensearchpy import OpenSearch\n",
    "es_client = OpenSearch('http://localhost:9200')\n",
    "\n",
    "es_client.info()"
   ]
  },
  {
   "cell_type": "code",
   "execution_count": 6,
   "id": "f8e4cbb0",
   "metadata": {},
   "outputs": [
    {
     "data": {
      "text/plain": [
       "{'acknowledged': True,\n",
       " 'shards_acknowledged': True,\n",
       " 'index': 'course-questions'}"
      ]
     },
     "execution_count": 6,
     "metadata": {},
     "output_type": "execute_result"
    }
   ],
   "source": [
    "index_settings = {\n",
    "    \"settings\": {\n",
    "        \"number_of_shards\": 1,\n",
    "        \"number_of_replicas\": 0\n",
    "    },\n",
    "    \"mappings\": {\n",
    "        \"properties\": {\n",
    "            \"text\": {\"type\": \"text\"},\n",
    "            \"section\": {\"type\": \"text\"},\n",
    "            \"question\": {\"type\": \"text\"},\n",
    "            \"course\": {\"type\": \"keyword\"} \n",
    "        }\n",
    "    }\n",
    "}\n",
    "\n",
    "index_name = 'course-questions'\n",
    "es_client.indices.create(index=index_name, body=index_settings)"
   ]
  },
  {
   "cell_type": "code",
   "execution_count": 7,
   "id": "db819c0f",
   "metadata": {},
   "outputs": [
    {
     "data": {
      "application/vnd.jupyter.widget-view+json": {
       "model_id": "d8e94ef95b0a40fc8a6691ca3da5e3af",
       "version_major": 2,
       "version_minor": 0
      },
      "text/plain": [
       "  0%|          | 0/948 [00:00<?, ?it/s]"
      ]
     },
     "metadata": {},
     "output_type": "display_data"
    }
   ],
   "source": [
    "for doc in tqdm(documents):\n",
    "    es_client.index(\n",
    "        index=index_name,\n",
    "    \n",
    "        body=doc\n",
    "    )"
   ]
  },
  {
   "cell_type": "code",
   "execution_count": 20,
   "id": "46b80eba",
   "metadata": {},
   "outputs": [
    {
     "data": {
      "text/plain": [
       "{'took': 33,\n",
       " 'timed_out': False,\n",
       " '_shards': {'total': 1, 'successful': 1, 'skipped': 0, 'failed': 0},\n",
       " 'hits': {'total': {'value': 340, 'relation': 'eq'},\n",
       "  'max_score': 73.38676,\n",
       "  'hits': [{'_index': 'course-questions',\n",
       "    '_id': 'i2rth5cBbInFLwxW3mN0',\n",
       "    '_score': 73.38676,\n",
       "    '_source': {'text': 'Launch the container image in interactive mode and overriding the entrypoint, so that it starts a bash command.\\ndocker run -it --entrypoint bash <image>\\nIf the container is already running, execute a command in the specific container:\\ndocker ps (find the container-id)\\ndocker exec -it <container-id> bash\\n(Marcos MJD)',\n",
       "     'section': '5. Deploying Machine Learning Models',\n",
       "     'question': 'How do I debug a docker container?',\n",
       "     'course': 'machine-learning-zoomcamp'}},\n",
       "   {'_index': 'course-questions',\n",
       "    '_id': 'qmrth5cBbInFLwxW3mPV',\n",
       "    '_score': 66.688705,\n",
       "    '_source': {'text': \"You can copy files from your local machine into a Docker container using the docker cp command. Here's how to do it:\\nTo copy a file or directory from your local machine into a running Docker container, you can use the `docker cp command`. The basic syntax is as follows:\\ndocker cp /path/to/local/file_or_directory container_id:/path/in/container\\nHrithik Kumar Advani\",\n",
       "     'section': '5. Deploying Machine Learning Models',\n",
       "     'question': 'How do I copy files from my local machine to docker container?',\n",
       "     'course': 'machine-learning-zoomcamp'}},\n",
       "   {'_index': 'course-questions',\n",
       "    '_id': 'q2rth5cBbInFLwxW3mPY',\n",
       "    '_score': 59.812744,\n",
       "    '_source': {'text': 'You can copy files from your local machine into a Docker container using the docker cp command. Here\\'s how to do it:\\nIn the Dockerfile, you can provide the folder containing the files that you want to copy over. The basic syntax is as follows:\\nCOPY [\"src/predict.py\", \"models/xgb_model.bin\", \"./\"]\\t\\t\\t\\t\\t\\t\\t\\t\\t\\t\\tGopakumar Gopinathan',\n",
       "     'section': '5. Deploying Machine Learning Models',\n",
       "     'question': 'How do I copy files from a different folder into docker container’s working directory?',\n",
       "     'course': 'machine-learning-zoomcamp'}}]}}"
      ]
     },
     "execution_count": 20,
     "metadata": {},
     "output_type": "execute_result"
    }
   ],
   "source": [
    "search_query = {\n",
    "    \"size\": 3,\n",
    "    \"query\": {\n",
    "        \"bool\": {\n",
    "            \"must\": {\n",
    "                \"multi_match\": {\n",
    "                    \"query\": query,\n",
    "                    \"fields\": [\"question^4\", \"text\"], # weighting\n",
    "                    \"type\": \"best_fields\"\n",
    "                }\n",
    "            },\n",
    "            \"filter\": {\n",
    "                \"term\": {\n",
    "                    \"course\": \"machine-learning-zoomcamp\"\n",
    "                    }\n",
    "                }\n",
    "            }\n",
    "        }\n",
    "    }\n",
    "\n",
    "response = es_client.search(\n",
    "    index=index_name,\n",
    "    body=search_query\n",
    ")\n",
    "\n",
    "response"
   ]
  },
  {
   "cell_type": "code",
   "execution_count": 21,
   "id": "cd53c2a5",
   "metadata": {},
   "outputs": [
    {
     "name": "stdout",
     "output_type": "stream",
     "text": [
      "Found 340 results.\n",
      "\n",
      "Score: 73.3868\n",
      "  Question: How do I debug a docker container?\n",
      "  Course: machine-learning-zoomcamp\n",
      "------------------------------\n",
      "Score: 66.6887\n",
      "  Question: How do I copy files from my local machine to docker container?\n",
      "  Course: machine-learning-zoomcamp\n",
      "------------------------------\n",
      "Score: 59.8127\n",
      "  Question: How do I copy files from a different folder into docker container’s working directory?\n",
      "  Course: machine-learning-zoomcamp\n",
      "------------------------------\n"
     ]
    }
   ],
   "source": [
    "# 3. Loop through the results and extract the score and source\n",
    "print(f\"Found {response['hits']['total']['value']} results.\\n\")\n",
    "\n",
    "scores = []\n",
    "\n",
    "for hit in response['hits']['hits']:\n",
    "    score = hit['_score']\n",
    "    scores.append(score)\n",
    "    source_data = hit['_source']\n",
    "    \n",
    "    # Now you can use them\n",
    "    print(f\"Score: {score:.4f}\") # Format to 4 decimal places for readability\n",
    "    print(f\"  Question: {source_data.get('question', 'N/A')}\")\n",
    "    print(f\"  Course: {source_data.get('course', 'N/A')}\")\n",
    "    print(\"-\" * 30)"
   ]
  },
  {
   "cell_type": "code",
   "execution_count": 17,
   "id": "3a9f2f67",
   "metadata": {},
   "outputs": [
    {
     "data": {
      "text/plain": [
       "[44.50556, 35.433445, 33.70974, 33.2635, 32.589073]"
      ]
     },
     "execution_count": 17,
     "metadata": {},
     "output_type": "execute_result"
    }
   ],
   "source": [
    "scores.sort(reverse=True)\n",
    "scores[:5]  # Top 5 scores"
   ]
  },
  {
   "cell_type": "code",
   "execution_count": 19,
   "id": "40bcd190",
   "metadata": {},
   "outputs": [
    {
     "data": {
      "text/plain": [
       "'How do copy a file to a Docker container?'"
      ]
     },
     "execution_count": 19,
     "metadata": {},
     "output_type": "execute_result"
    }
   ],
   "source": [
    "query= 'How do copy a file to a Docker container?'\n",
    "query"
   ]
  },
  {
   "cell_type": "markdown",
   "id": "ec604169",
   "metadata": {},
   "source": [
    "#### Q5"
   ]
  },
  {
   "cell_type": "code",
   "execution_count": null,
   "id": "466cc5c2",
   "metadata": {},
   "outputs": [],
   "source": [
    "def build_prompt(query, search_results):\n",
    "    context_template = \"\"\"\n",
    "    Q: {question}\n",
    "    A: {text}\n",
    "    \"\"\".strip()\n",
    "\n",
    "# til here ...\n",
    "\n",
    "    context = \"\"\n",
    "    for doc in search_results:\n",
    "        context += f\"Section: {doc['section']}\\nQuestion: {doc['question']}\\nAnswer: {doc['text']}\\n\\n\"\n",
    "    # print(context)\n",
    "\n",
    "    prompt = prompt_template.format(\n",
    "        question=q,\n",
    "        context=context\n",
    "        ).strip()\n",
    "\n",
    "    return prompt"
   ]
  }
 ],
 "metadata": {
  "kernelspec": {
   "display_name": "zoomcamp",
   "language": "python",
   "name": "python3"
  },
  "language_info": {
   "codemirror_mode": {
    "name": "ipython",
    "version": 3
   },
   "file_extension": ".py",
   "mimetype": "text/x-python",
   "name": "python",
   "nbconvert_exporter": "python",
   "pygments_lexer": "ipython3",
   "version": "3.9.15"
  }
 },
 "nbformat": 4,
 "nbformat_minor": 5
}

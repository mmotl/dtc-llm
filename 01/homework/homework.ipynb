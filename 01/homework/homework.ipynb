{
 "cells": [
  {
   "cell_type": "markdown",
   "id": "49dc47e4",
   "metadata": {},
   "source": [
    "#### Q1 build_hash"
   ]
  },
  {
   "cell_type": "markdown",
   "id": "89f851ac",
   "metadata": {},
   "source": [
    "For running Elastic Search 8.17.6:  \n",
    "\n",
    "```zsh\n",
    "\n",
    "docker run -it \\\n",
    "    --rm \\\n",
    "    --name elasticsearch \\\n",
    "    -p 9200:9200 \\\n",
    "    -p 9300:9300 \\\n",
    "    -e \"discovery.type=single-node\" \\\n",
    "    -e \"xpack.security.enabled=false\" \\\n",
    "    elasticsearch:8.17.6\n",
    "```\n",
    "\n",
    "gives \"build_hash\" : \"dbcbbbd0bc4924cfeb28929dc05d82d662c527b7\"\n"
   ]
  },
  {
   "cell_type": "code",
   "execution_count": 1,
   "id": "714e0ff7",
   "metadata": {},
   "outputs": [],
   "source": [
    "import requests \n",
    "\n",
    "docs_url = 'https://github.com/DataTalksClub/llm-zoomcamp/blob/main/01-intro/documents.json?raw=1'\n",
    "docs_response = requests.get(docs_url)\n",
    "documents_raw = docs_response.json()\n",
    "\n",
    "documents = []\n",
    "\n",
    "for course in documents_raw:\n",
    "    course_name = course['course']\n",
    "\n",
    "    for doc in course['documents']:\n",
    "        doc['course'] = course_name\n",
    "        documents.append(doc)"
   ]
  },
  {
   "cell_type": "code",
   "execution_count": 2,
   "id": "c15b57c7",
   "metadata": {},
   "outputs": [
    {
     "data": {
      "text/plain": [
       "{'text': \"The purpose of this document is to capture frequently asked technical questions\\nThe exact day and hour of the course will be 15th Jan 2024 at 17h00. The course will start with the first  “Office Hours'' live.1\\nSubscribe to course public Google Calendar (it works from Desktop only).\\nRegister before the course starts using this link.\\nJoin the course Telegram channel with announcements.\\nDon’t forget to register in DataTalks.Club's Slack and join the channel.\",\n",
       " 'section': 'General course-related questions',\n",
       " 'question': 'Course - When will the course start?',\n",
       " 'course': 'data-engineering-zoomcamp'}"
      ]
     },
     "execution_count": 2,
     "metadata": {},
     "output_type": "execute_result"
    }
   ],
   "source": [
    "documents[0]"
   ]
  },
  {
   "cell_type": "code",
   "execution_count": 3,
   "id": "92261421",
   "metadata": {},
   "outputs": [],
   "source": [
    "query = 'How do execute a command on a Kubernetes pod?'"
   ]
  },
  {
   "cell_type": "code",
   "execution_count": 4,
   "id": "42edf771",
   "metadata": {},
   "outputs": [],
   "source": [
    "from tqdm.auto import tqdm"
   ]
  },
  {
   "cell_type": "code",
   "execution_count": 5,
   "id": "54634a04",
   "metadata": {},
   "outputs": [
    {
     "data": {
      "text/plain": [
       "{'name': 'ca3520459c8d',\n",
       " 'cluster_name': 'docker-cluster',\n",
       " 'cluster_uuid': 'sPDGXxpOQDyEMkM1DamC7A',\n",
       " 'version': {'number': '8.17.6',\n",
       "  'build_flavor': 'default',\n",
       "  'build_type': 'docker',\n",
       "  'build_hash': 'dbcbbbd0bc4924cfeb28929dc05d82d662c527b7',\n",
       "  'build_date': '2025-04-30T14:07:12.231372970Z',\n",
       "  'build_snapshot': False,\n",
       "  'lucene_version': '9.12.0',\n",
       "  'minimum_wire_compatibility_version': '7.17.0',\n",
       "  'minimum_index_compatibility_version': '7.0.0'},\n",
       " 'tagline': 'You Know, for Search'}"
      ]
     },
     "execution_count": 5,
     "metadata": {},
     "output_type": "execute_result"
    }
   ],
   "source": [
    "# from elasticsearch import Elasticsearch\n",
    "# es_client = Elasticsearch('http://localhost:9200')\n",
    "\n",
    "from opensearchpy import OpenSearch\n",
    "es_client = OpenSearch('http://localhost:9200')\n",
    "\n",
    "es_client.info()"
   ]
  },
  {
   "cell_type": "markdown",
   "id": "42b3ca68",
   "metadata": {},
   "source": [
    "#### Q2 indexing"
   ]
  },
  {
   "cell_type": "code",
   "execution_count": null,
   "id": "f8e4cbb0",
   "metadata": {},
   "outputs": [],
   "source": [
    "index_settings = {\n",
    "    \"settings\": {\n",
    "        \"number_of_shards\": 1,\n",
    "        \"number_of_replicas\": 0\n",
    "    },\n",
    "    \"mappings\": {\n",
    "        \"properties\": {\n",
    "            \"text\": {\"type\": \"text\"},\n",
    "            \"section\": {\"type\": \"text\"},\n",
    "            \"question\": {\"type\": \"text\"},\n",
    "            \"course\": {\"type\": \"keyword\"} \n",
    "        }\n",
    "    }\n",
    "}\n",
    "\n",
    "index_name = 'course-questions'\n",
    "es_client.indices.create(index=index_name, body=index_settings) # toggled since index already exists"
   ]
  },
  {
   "cell_type": "code",
   "execution_count": 11,
   "id": "6c9d8555",
   "metadata": {},
   "outputs": [
    {
     "data": {
      "text/plain": [
       "{'acknowledged': True,\n",
       " 'shards_acknowledged': True,\n",
       " 'index': 'course-questions'}"
      ]
     },
     "execution_count": 11,
     "metadata": {},
     "output_type": "execute_result"
    }
   ],
   "source": [
    "# es_client.indices.delete(index=index_name)\n",
    "es_client.indices.create(index=index_name, body=index_settings) # toggled since index already exists"
   ]
  },
  {
   "cell_type": "code",
   "execution_count": 12,
   "id": "db819c0f",
   "metadata": {},
   "outputs": [
    {
     "data": {
      "application/vnd.jupyter.widget-view+json": {
       "model_id": "4dc4d5eb8f914ec69d4fd37f82a5035c",
       "version_major": 2,
       "version_minor": 0
      },
      "text/plain": [
       "  0%|          | 0/948 [00:00<?, ?it/s]"
      ]
     },
     "metadata": {},
     "output_type": "display_data"
    }
   ],
   "source": [
    "for doc in tqdm(documents):\n",
    "    es_client.index(\n",
    "        index=index_name,\n",
    "        body=doc\n",
    "    )"
   ]
  },
  {
   "cell_type": "code",
   "execution_count": 13,
   "id": "46b80eba",
   "metadata": {},
   "outputs": [],
   "source": [
    "search_query = {\n",
    "    \"size\": 5,\n",
    "    \"query\": {\n",
    "        \"bool\": {\n",
    "            \"must\": {\n",
    "                \"multi_match\": {\n",
    "                    \"query\": query,\n",
    "                    \"fields\": [\"question^4\", \"text\"], # weighting\n",
    "                    \"type\": \"best_fields\"\n",
    "                }\n",
    "            },\n",
    "            # \"filter\": {\n",
    "            #     \"term\": {\n",
    "            #         \"course\": \"machine-learning-zoomcamp\"\n",
    "            #         }\n",
    "            #     }\n",
    "            }\n",
    "        }\n",
    "    }\n",
    "\n",
    "response = es_client.search(\n",
    "    index=index_name,\n",
    "    body=search_query\n",
    ")\n",
    "\n",
    "result_docs = []\n",
    "\n",
    "for hit in response['hits']['hits']:\n",
    "    result_docs.append(hit['_source'])"
   ]
  },
  {
   "cell_type": "markdown",
   "id": "9f2e800c",
   "metadata": {},
   "source": [
    "#### Q3 searching"
   ]
  },
  {
   "cell_type": "code",
   "execution_count": 14,
   "id": "cd53c2a5",
   "metadata": {},
   "outputs": [
    {
     "name": "stdout",
     "output_type": "stream",
     "text": [
      "Found 739 results.\n",
      "\n",
      "Score: 44.5056\n",
      "  Question: How do I debug a docker container?\n",
      "  Course: machine-learning-zoomcamp\n",
      "------------------------------\n",
      "Score: 35.4334\n",
      "  Question: Kubernetes-dashboard\n",
      "  Course: machine-learning-zoomcamp\n",
      "------------------------------\n",
      "Score: 33.7097\n",
      "  Question: How do I copy files from a different folder into docker container’s working directory?\n",
      "  Course: machine-learning-zoomcamp\n",
      "------------------------------\n",
      "Score: 33.2635\n",
      "  Question: How to run a script while a web-server is working?\n",
      "  Course: machine-learning-zoomcamp\n",
      "------------------------------\n",
      "Score: 32.5891\n",
      "  Question: How can I annotate a graph?\n",
      "  Course: machine-learning-zoomcamp\n",
      "------------------------------\n"
     ]
    }
   ],
   "source": [
    "# 3. Loop through the results and extract the score and source\n",
    "print(f\"Found {response['hits']['total']['value']} results.\\n\")\n",
    "\n",
    "scores = []\n",
    "\n",
    "for hit in response['hits']['hits']:\n",
    "    score = hit['_score']\n",
    "    scores.append(score)\n",
    "    source_data = hit['_source']\n",
    "    \n",
    "    # Now you can use them\n",
    "    print(f\"Score: {score:.4f}\") # Format to 4 decimal places for readability\n",
    "    print(f\"  Question: {source_data.get('question', 'N/A')}\")\n",
    "    print(f\"  Course: {source_data.get('course', 'N/A')}\")\n",
    "    print(\"-\" * 30)"
   ]
  },
  {
   "cell_type": "code",
   "execution_count": 15,
   "id": "3a9f2f67",
   "metadata": {},
   "outputs": [
    {
     "data": {
      "text/plain": [
       "[44.50556, 35.433445, 33.70974, 33.2635, 32.589073]"
      ]
     },
     "execution_count": 15,
     "metadata": {},
     "output_type": "execute_result"
    }
   ],
   "source": [
    "scores.sort(reverse=True)\n",
    "scores[:5]  # Top 5 scores"
   ]
  },
  {
   "cell_type": "markdown",
   "id": "cd48f8f8",
   "metadata": {},
   "source": [
    "#### Q4 filtering"
   ]
  },
  {
   "cell_type": "code",
   "execution_count": 16,
   "id": "40bcd190",
   "metadata": {},
   "outputs": [
    {
     "data": {
      "text/plain": [
       "'How do copy a file to a Docker container?'"
      ]
     },
     "execution_count": 16,
     "metadata": {},
     "output_type": "execute_result"
    }
   ],
   "source": [
    "query= 'How do copy a file to a Docker container?'\n",
    "query"
   ]
  },
  {
   "cell_type": "code",
   "execution_count": 21,
   "id": "875a0aea",
   "metadata": {},
   "outputs": [],
   "source": [
    "def f_elasticsearch(query):\n",
    "    search_query = {\n",
    "    \"size\": 3,\n",
    "    \"query\": {\n",
    "        \"bool\": {\n",
    "            \"must\": {\n",
    "                \"multi_match\": {\n",
    "                    \"query\": query,\n",
    "                    \"fields\": [\"question^4\", \"text\"], # weighting\n",
    "                    \"type\": \"best_fields\"\n",
    "                }\n",
    "            },\n",
    "            \"filter\": {\n",
    "                \"term\": {\n",
    "                    \"course\": \"machine-learning-zoomcamp\"\n",
    "                    }\n",
    "                }\n",
    "            }\n",
    "        }\n",
    "    }\n",
    "\n",
    "    response = es_client.search(\n",
    "        index=index_name,\n",
    "        body=search_query\n",
    "        )\n",
    "\n",
    "    result_docs = []\n",
    "\n",
    "    for hit in response['hits']['hits']:\n",
    "        result_docs.append(hit['_source'])\n",
    "\n",
    "    return result_docs"
   ]
  },
  {
   "cell_type": "code",
   "execution_count": 22,
   "id": "ddeff177",
   "metadata": {},
   "outputs": [],
   "source": [
    "result_docs = f_elasticsearch(query)"
   ]
  },
  {
   "cell_type": "code",
   "execution_count": 23,
   "id": "aa046938",
   "metadata": {},
   "outputs": [
    {
     "data": {
      "text/plain": [
       "[{'text': 'Launch the container image in interactive mode and overriding the entrypoint, so that it starts a bash command.\\ndocker run -it --entrypoint bash <image>\\nIf the container is already running, execute a command in the specific container:\\ndocker ps (find the container-id)\\ndocker exec -it <container-id> bash\\n(Marcos MJD)',\n",
       "  'section': '5. Deploying Machine Learning Models',\n",
       "  'question': 'How do I debug a docker container?',\n",
       "  'course': 'machine-learning-zoomcamp'},\n",
       " {'text': \"You can copy files from your local machine into a Docker container using the docker cp command. Here's how to do it:\\nTo copy a file or directory from your local machine into a running Docker container, you can use the `docker cp command`. The basic syntax is as follows:\\ndocker cp /path/to/local/file_or_directory container_id:/path/in/container\\nHrithik Kumar Advani\",\n",
       "  'section': '5. Deploying Machine Learning Models',\n",
       "  'question': 'How do I copy files from my local machine to docker container?',\n",
       "  'course': 'machine-learning-zoomcamp'},\n",
       " {'text': 'You can copy files from your local machine into a Docker container using the docker cp command. Here\\'s how to do it:\\nIn the Dockerfile, you can provide the folder containing the files that you want to copy over. The basic syntax is as follows:\\nCOPY [\"src/predict.py\", \"models/xgb_model.bin\", \"./\"]\\t\\t\\t\\t\\t\\t\\t\\t\\t\\t\\tGopakumar Gopinathan',\n",
       "  'section': '5. Deploying Machine Learning Models',\n",
       "  'question': 'How do I copy files from a different folder into docker container’s working directory?',\n",
       "  'course': 'machine-learning-zoomcamp'}]"
      ]
     },
     "execution_count": 23,
     "metadata": {},
     "output_type": "execute_result"
    }
   ],
   "source": [
    "result_docs"
   ]
  },
  {
   "cell_type": "markdown",
   "id": "ec604169",
   "metadata": {},
   "source": [
    "#### Q5 prompt"
   ]
  },
  {
   "cell_type": "code",
   "execution_count": null,
   "id": "36ddef73",
   "metadata": {},
   "outputs": [],
   "source": [
    "# testing context generation\n",
    "context = \"\"\n",
    "for doc in result_docs:\n",
    "    context += f\"Q: {doc['question']}\\nA: {doc['text']}\\n\\n\"\n",
    "print(context)"
   ]
  },
  {
   "cell_type": "code",
   "execution_count": 20,
   "id": "466cc5c2",
   "metadata": {},
   "outputs": [],
   "source": [
    "def build_prompt(query, search_results):\n",
    "    prompt_template = \"\"\"\n",
    "        You're a course teaching assistant. Answer the QUESTION based on the CONTEXT from the FAQ database.\n",
    "        Use only the facts from the CONTEXT when answering the QUESTION.\n",
    "\n",
    "        QUESTION: {question}\n",
    "\n",
    "        CONTEXT:\n",
    "        {context}\n",
    "        \"\"\".strip() \n",
    "\n",
    "    context = \"\"\n",
    "    for doc in search_results:\n",
    "        context += f\"Q: {doc['question']}\\nA: {doc['text']}\\n\\n\"\n",
    "\n",
    "    prompt = prompt_template.format(\n",
    "        question=query,\n",
    "        context=context\n",
    "        ).strip()\n",
    "\n",
    "    return prompt"
   ]
  },
  {
   "cell_type": "code",
   "execution_count": 25,
   "id": "f62f7000",
   "metadata": {},
   "outputs": [],
   "source": [
    "prompt = build_prompt(query, result_docs)"
   ]
  },
  {
   "cell_type": "code",
   "execution_count": 24,
   "id": "2f867d2f",
   "metadata": {},
   "outputs": [
    {
     "data": {
      "text/plain": [
       "('How do copy a file to a Docker container?', 3)"
      ]
     },
     "execution_count": 24,
     "metadata": {},
     "output_type": "execute_result"
    }
   ],
   "source": [
    "query, len(result_docs)"
   ]
  },
  {
   "cell_type": "code",
   "execution_count": 26,
   "id": "00a459c0",
   "metadata": {},
   "outputs": [
    {
     "data": {
      "text/plain": [
       "1478"
      ]
     },
     "execution_count": 26,
     "metadata": {},
     "output_type": "execute_result"
    }
   ],
   "source": [
    "len(prompt)"
   ]
  },
  {
   "cell_type": "markdown",
   "id": "aeddc3ef",
   "metadata": {},
   "source": [
    "#### Q6"
   ]
  },
  {
   "cell_type": "markdown",
   "id": "6e306e0b",
   "metadata": {},
   "source": [
    "##### tokens count with tiktoken"
   ]
  },
  {
   "cell_type": "code",
   "execution_count": 29,
   "id": "17b94a5f",
   "metadata": {},
   "outputs": [
    {
     "data": {
      "text/plain": [
       "324"
      ]
     },
     "execution_count": 29,
     "metadata": {},
     "output_type": "execute_result"
    }
   ],
   "source": [
    "import tiktoken\n",
    "\n",
    "encoding = tiktoken.encoding_for_model(\"gpt-4o\")\n",
    "tokens = encoding.encode(prompt)\n",
    "len(tokens)"
   ]
  },
  {
   "cell_type": "markdown",
   "id": "cc9af9d3",
   "metadata": {},
   "source": [
    "##### tokens count with response.usage_metadata"
   ]
  },
  {
   "cell_type": "code",
   "execution_count": 30,
   "id": "4dac0612",
   "metadata": {},
   "outputs": [],
   "source": [
    "from dotenv import load_dotenv\n",
    "import os\n",
    "\n",
    "# Load environment variables from .env file\n",
    "load_dotenv()\n",
    "\n",
    "# Example: get a variable\n",
    "GOOGLE_API_KEY = os.getenv('GOOGLE_API_KEY')\n"
   ]
  },
  {
   "cell_type": "code",
   "execution_count": 31,
   "id": "570b5924",
   "metadata": {},
   "outputs": [],
   "source": [
    "from google import genai\n",
    "from google.genai import types"
   ]
  },
  {
   "cell_type": "code",
   "execution_count": 32,
   "id": "52bad59f",
   "metadata": {},
   "outputs": [],
   "source": [
    "# Only run this block for Gemini Developer API\n",
    "client = genai.Client(api_key=GOOGLE_API_KEY)"
   ]
  },
  {
   "cell_type": "code",
   "execution_count": 33,
   "id": "553bc9e5",
   "metadata": {},
   "outputs": [],
   "source": [
    "def llm(query, prompt):\n",
    "    client = genai.Client(api_key=GOOGLE_API_KEY)\n",
    "\n",
    "    response = client.models.generate_content(\n",
    "        model='gemini-2.5-pro', \n",
    "        contents=[query, prompt]\n",
    "    )\n",
    "    \n",
    "    return response.text.strip()"
   ]
  },
  {
   "cell_type": "code",
   "execution_count": 34,
   "id": "82c8d9b1",
   "metadata": {},
   "outputs": [],
   "source": [
    "def rag(query):\n",
    "    \"\"\"\n",
    "    RAG: Retrieve, Augment, Generate\n",
    "    \"\"\"\n",
    "\n",
    "    search_results = f_elasticsearch(query)\n",
    "    prompt = build_prompt(query, search_results)\n",
    "    answer = llm(query, prompt) \n",
    "    # answer = openai_llm(prompt) \n",
    "\n",
    "    return answer"
   ]
  },
  {
   "cell_type": "code",
   "execution_count": 35,
   "id": "3e68769a",
   "metadata": {},
   "outputs": [],
   "source": [
    "answer = rag(query)"
   ]
  },
  {
   "cell_type": "code",
   "execution_count": 36,
   "id": "6a157dd0",
   "metadata": {},
   "outputs": [
    {
     "data": {
      "text/plain": [
       "'Based on the context provided, here are two ways to copy a file to a Docker container:\\n\\n**Method 1: Using the `docker cp` command**\\n\\nYou can copy files from your local machine into a running Docker container. The command syntax is:\\n`docker cp /path/to/local/file_or_directory container_id:/path/in/container`\\n\\n**Method 2: Using a `Dockerfile`**\\n\\nYou can copy files from a different folder into the container’s working directory when building the image. In the Dockerfile, use the `COPY` command with the following syntax:\\n`COPY [\"src/predict.py\", \"models/xgb_model.bin\", \"./\"]`'"
      ]
     },
     "execution_count": 36,
     "metadata": {},
     "output_type": "execute_result"
    }
   ],
   "source": [
    "answer"
   ]
  },
  {
   "cell_type": "code",
   "execution_count": 37,
   "id": "4af3f11b",
   "metadata": {},
   "outputs": [],
   "source": [
    "response = client.models.generate_content(\n",
    "        model='gemini-2.5-pro', \n",
    "        contents=[query, prompt])"
   ]
  },
  {
   "cell_type": "code",
   "execution_count": 38,
   "id": "5b3aac90",
   "metadata": {},
   "outputs": [
    {
     "name": "stdout",
     "output_type": "stream",
     "text": [
      "--- Token Usage ---\n",
      "Prompt Tokens (Input): 369\n",
      "Candidates Tokens (Output): 129\n",
      "Total Tokens: 1650\n"
     ]
    }
   ],
   "source": [
    "# Access the usage metadata from the response\n",
    "usage_data = response.usage_metadata\n",
    "\n",
    "print(\"--- Token Usage ---\")\n",
    "print(f\"Prompt Tokens (Input): {usage_data.prompt_token_count}\")\n",
    "print(f\"Candidates Tokens (Output): {usage_data.candidates_token_count}\")\n",
    "print(f\"Total Tokens: {usage_data.total_token_count}\")"
   ]
  },
  {
   "cell_type": "code",
   "execution_count": null,
   "id": "ba09f2d2",
   "metadata": {},
   "outputs": [],
   "source": []
  }
 ],
 "metadata": {
  "kernelspec": {
   "display_name": "zoomcamp",
   "language": "python",
   "name": "python3"
  },
  "language_info": {
   "codemirror_mode": {
    "name": "ipython",
    "version": 3
   },
   "file_extension": ".py",
   "mimetype": "text/x-python",
   "name": "python",
   "nbconvert_exporter": "python",
   "pygments_lexer": "ipython3",
   "version": "3.9.15"
  }
 },
 "nbformat": 4,
 "nbformat_minor": 5
}

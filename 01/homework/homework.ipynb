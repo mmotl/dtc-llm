{
 "cells": [
  {
   "cell_type": "markdown",
   "id": "89f851ac",
   "metadata": {},
   "source": [
    "For running Elastic Search 8.17.6:  \n",
    "\n",
    "```zsh\n",
    "\n",
    "docker run -it \\\n",
    "    --rm \\\n",
    "    --name elasticsearch \\\n",
    "    -p 9200:9200 \\\n",
    "    -p 9300:9300 \\\n",
    "    -e \"discovery.type=single-node\" \\\n",
    "    -e \"xpack.security.enabled=false\" \\\n",
    "    elasticsearch:8.17.6\n",
    "```\n",
    "\n",
    "gives \"build_hash\" : \"dbcbbbd0bc4924cfeb28929dc05d82d662c527b7\"\n"
   ]
  },
  {
   "cell_type": "code",
   "execution_count": null,
   "id": "714e0ff7",
   "metadata": {
    "vscode": {
     "languageId": "plaintext"
    }
   },
   "outputs": [],
   "source": []
  },
  {
   "cell_type": "code",
   "execution_count": null,
   "id": "c15b57c7",
   "metadata": {
    "vscode": {
     "languageId": "plaintext"
    }
   },
   "outputs": [],
   "source": []
  }
 ],
 "metadata": {
  "language_info": {
   "name": "python"
  }
 },
 "nbformat": 4,
 "nbformat_minor": 5
}
